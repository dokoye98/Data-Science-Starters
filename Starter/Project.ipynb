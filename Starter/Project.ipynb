{
 "cells": [
  {
   "cell_type": "code",
   "execution_count": 5,
   "metadata": {},
   "outputs": [],
   "source": [
    "age = 28\n",
    "sex = 0\n",
    "bmi = 26.2\n",
    "num_of_children = 3\n",
    "smoker = 0"
   ]
  },
  {
   "cell_type": "code",
   "execution_count": 6,
   "metadata": {},
   "outputs": [
    {
     "name": "stdout",
     "output_type": "stream",
     "text": [
      "The estimated cost for this persons is 1000\n"
     ]
    }
   ],
   "source": [
    "def calculate_insurance_cost():\n",
    "    estimated_cost = 1000\n",
    "    print(\"The estimated cost for this persons is {}\".format(estimated_cost))\n",
    "    \n",
    "calculate_insurance_cost()"
   ]
  },
  {
   "cell_type": "code",
   "execution_count": 10,
   "metadata": {},
   "outputs": [
    {
     "name": "stdout",
     "output_type": "stream",
     "text": [
      "The estimated cost for this persons is 1000\n",
      "actual cost is 5469.0\n"
     ]
    }
   ],
   "source": [
    "def actual_cost(age, sex,bmi,no_of_children,smoker):\n",
    "    calculate_insurance_cost()\n",
    "    insurance_cost = 250*age - 128 *sex +370 *bmi + 425 *no_of_children +24000 *smoker - 12500\n",
    "    if sex == 1:\n",
    "        print(\"sir your cost is {}\".format(insurance_cost))\n",
    "    else:\n",
    "        print\n",
    "    print(\"actual cost is {}\".format(insurance_cost))\n",
    "\n",
    "marias_cost = actual_cost(28,0,26.2,3,0)"
   ]
  },
  {
   "cell_type": "code",
   "execution_count": 11,
   "metadata": {},
   "outputs": [
    {
     "name": "stdout",
     "output_type": "stream",
     "text": [
      "The estimated cost for this persons is 1000\n",
      "actual cost is 28336.0\n"
     ]
    }
   ],
   "source": [
    "omar_cost = actual_cost(35,1,22.2,0,1)"
   ]
  },
  {
   "cell_type": "code",
   "execution_count": null,
   "metadata": {},
   "outputs": [],
   "source": []
  }
 ],
 "metadata": {
  "kernelspec": {
   "display_name": "env",
   "language": "python",
   "name": "python3"
  },
  "language_info": {
   "codemirror_mode": {
    "name": "ipython",
    "version": 3
   },
   "file_extension": ".py",
   "mimetype": "text/x-python",
   "name": "python",
   "nbconvert_exporter": "python",
   "pygments_lexer": "ipython3",
   "version": "3.9.13"
  },
  "orig_nbformat": 4
 },
 "nbformat": 4,
 "nbformat_minor": 2
}
